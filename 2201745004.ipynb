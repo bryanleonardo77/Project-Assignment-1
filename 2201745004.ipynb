{
 "cells": [
  {
   "cell_type": "code",
   "execution_count": 1,
   "metadata": {},
   "outputs": [
    {
     "name": "stdout",
     "output_type": "stream",
     "text": [
      "      id                                 name  host_id  host_name  \\\n",
      "0  49091    COZICOMFORT LONG TERM STAY ROOM 2   266763  Francesca   \n",
      "1  50646      Pleasant Room along Bukit Timah   227796    Sujatha   \n",
      "2  56334                          COZICOMFORT   266763  Francesca   \n",
      "3  71609  Ensuite Room (Room 1 & 2) near EXPO   367042    Belinda   \n",
      "4  71896      B&B  Room 1 near Airport & EXPO   367042    Belinda   \n",
      "\n",
      "  neighbourhood_group neighbourhood  latitude  longitude     room_type  price  \\\n",
      "0        North Region     Woodlands   1.44255  103.79580  Private room     83   \n",
      "1      Central Region   Bukit Timah   1.33235  103.78521  Private room     81   \n",
      "2        North Region     Woodlands   1.44246  103.79667  Private room     69   \n",
      "3         East Region      Tampines   1.34541  103.95712  Private room    206   \n",
      "4         East Region      Tampines   1.34567  103.95963  Private room     94   \n",
      "\n",
      "   minimum_nights  number_of_reviews last_review  reviews_per_month  \\\n",
      "0             180                  1  2013-10-21               0.01   \n",
      "1              90                 18  2014-12-26               0.28   \n",
      "2               6                 20  2015-10-01               0.20   \n",
      "3               1                 14  2019-08-11               0.15   \n",
      "4               1                 22  2019-07-28               0.22   \n",
      "\n",
      "   calculated_host_listings_count  availability_365  \n",
      "0                               2               365  \n",
      "1                               1               365  \n",
      "2                               2               365  \n",
      "3                               9               353  \n",
      "4                               9               355  \n"
     ]
    }
   ],
   "source": [
    "import pandas as pd\n",
    "listingsData = pd.read_csv(\"listings.csv\",delimiter = \",\")\n",
    "print(listingsData.head())"
   ]
  },
  {
   "cell_type": "code",
   "execution_count": 2,
   "metadata": {},
   "outputs": [
    {
     "name": "stdout",
     "output_type": "stream",
     "text": [
      "False\n",
      "7907\n"
     ]
    }
   ],
   "source": [
    "newlistingsDataFill = listingsData.fillna(\"0\")\n",
    "print(newlistingsDataFill.isna().values.any())\n",
    "print(len(newlistingsDataFill))"
   ]
  },
  {
   "cell_type": "code",
   "execution_count": 3,
   "metadata": {},
   "outputs": [
    {
     "name": "stdout",
     "output_type": "stream",
     "text": [
      "id                                   38112762\n",
      "host_id                             288567551\n",
      "host_name                                  ｼﾝ\n",
      "neighbourhood_group               West Region\n",
      "neighbourhood                          Yishun\n",
      "latitude                              1.45459\n",
      "longitude                             103.973\n",
      "room_type                         Shared room\n",
      "price                                   10000\n",
      "minimum_nights                           1000\n",
      "number_of_reviews                         323\n",
      "reviews_per_month                          13\n",
      "calculated_host_listings_count            274\n",
      "availability_365                          365\n",
      "dtype: object\n",
      "id                                                   49091\n",
      "host_id                                              23666\n",
      "host_name                         (Email hidden by Airbnb)\n",
      "neighbourhood_group                         Central Region\n",
      "neighbourhood                                   Ang Mo Kio\n",
      "latitude                                           1.24387\n",
      "longitude                                          103.647\n",
      "room_type                                  Entire home/apt\n",
      "price                                                    0\n",
      "minimum_nights                                           1\n",
      "number_of_reviews                                        0\n",
      "reviews_per_month                                     0.01\n",
      "calculated_host_listings_count                           1\n",
      "availability_365                                         0\n",
      "dtype: object\n"
     ]
    }
   ],
   "source": [
    "maxValue = listingsData.max()\n",
    "minValue = listingsData.min()\n",
    "print(maxValue)\n",
    "print(minValue)"
   ]
  },
  {
   "cell_type": "code",
   "execution_count": null,
   "metadata": {},
   "outputs": [],
   "source": []
  }
 ],
 "metadata": {
  "kernelspec": {
   "display_name": "Python 3",
   "language": "python",
   "name": "python3"
  },
  "language_info": {
   "codemirror_mode": {
    "name": "ipython",
    "version": 3
   },
   "file_extension": ".py",
   "mimetype": "text/x-python",
   "name": "python",
   "nbconvert_exporter": "python",
   "pygments_lexer": "ipython3",
   "version": "3.7.4"
  }
 },
 "nbformat": 4,
 "nbformat_minor": 2
}
